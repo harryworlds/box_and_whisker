{
 "cells": [
  {
   "cell_type": "markdown",
   "id": "c40800e6",
   "metadata": {},
   "source": [
    "### Find mean, Median, Mode, Range and Quartile of data set: 60, 55, 50, 50, 40 ,45, 55 , 45, 50."
   ]
  },
  {
   "cell_type": "code",
   "execution_count": 2,
   "id": "a05ef36c",
   "metadata": {},
   "outputs": [],
   "source": [
    "data_set = [ 60, 55, 50, 50, 40 ,45, 55 , 45, 50]"
   ]
  },
  {
   "cell_type": "code",
   "execution_count": 3,
   "id": "37eb7942",
   "metadata": {},
   "outputs": [
    {
     "data": {
      "text/plain": [
       "[40, 45, 45, 50, 50, 50, 55, 55, 60]"
      ]
     },
     "execution_count": 3,
     "metadata": {},
     "output_type": "execute_result"
    }
   ],
   "source": [
    "data_set.sort()\n",
    "data_set"
   ]
  },
  {
   "cell_type": "markdown",
   "id": "f3aecddb",
   "metadata": {},
   "source": [
    "#### 1. Minimum and Maximum"
   ]
  },
  {
   "cell_type": "code",
   "execution_count": 4,
   "id": "87f9d0de",
   "metadata": {},
   "outputs": [
    {
     "data": {
      "text/plain": [
       "40"
      ]
     },
     "execution_count": 4,
     "metadata": {},
     "output_type": "execute_result"
    }
   ],
   "source": [
    "min(data_set)"
   ]
  },
  {
   "cell_type": "code",
   "execution_count": 5,
   "id": "2dc715f0",
   "metadata": {},
   "outputs": [
    {
     "data": {
      "text/plain": [
       "60"
      ]
     },
     "execution_count": 5,
     "metadata": {},
     "output_type": "execute_result"
    }
   ],
   "source": [
    "max(data_set)"
   ]
  },
  {
   "cell_type": "markdown",
   "id": "4b9c967e",
   "metadata": {},
   "source": [
    "#### 2. Mean"
   ]
  },
  {
   "cell_type": "code",
   "execution_count": 6,
   "id": "64bf7f2e",
   "metadata": {},
   "outputs": [
    {
     "data": {
      "text/plain": [
       "50.0"
      ]
     },
     "execution_count": 6,
     "metadata": {},
     "output_type": "execute_result"
    }
   ],
   "source": [
    "mean  = sum(data_set)/len(data_set)\n",
    "mean"
   ]
  },
  {
   "cell_type": "markdown",
   "id": "80e246d2",
   "metadata": {},
   "source": [
    "#### 3. Median"
   ]
  },
  {
   "attachments": {
    "Screenshot%202022-10-25%20175116-2.jpg": {
     "image/jpeg": "[encoded data removed]"
    }
   },
   "cell_type": "markdown",
   "id": "97264b8f",
   "metadata": {},
   "source": [
    "![Screenshot%202022-10-25%20175116-2.jpg](attachment:Screenshot%202022-10-25%20175116-2.jpg)"
   ]
  },
  {
   "cell_type": "code",
   "execution_count": 7,
   "id": "c4ea5ef2",
   "metadata": {},
   "outputs": [
    {
     "data": {
      "text/plain": [
       "5"
      ]
     },
     "execution_count": 7,
     "metadata": {},
     "output_type": "execute_result"
    }
   ],
   "source": [
    "(len(data_set)+1)//2"
   ]
  },
  {
   "cell_type": "code",
   "execution_count": 8,
   "id": "ed32fdb5",
   "metadata": {},
   "outputs": [
    {
     "name": "stdout",
     "output_type": "stream",
     "text": [
      "0 60\n",
      "1 55\n",
      "2 50\n",
      "3 50\n",
      "4 40\n",
      "5 45\n",
      "6 55\n",
      "7 45\n",
      "8 50\n"
     ]
    }
   ],
   "source": [
    "data_set = [ 60, 55, 50, 50, 40 ,45, 55 , 45, 50]\n",
    "for index, column in enumerate (data_set):\n",
    "    print(index, column)"
   ]
  },
  {
   "cell_type": "code",
   "execution_count": 9,
   "id": "8f544951",
   "metadata": {},
   "outputs": [
    {
     "data": {
      "text/plain": [
       "50"
      ]
     },
     "execution_count": 9,
     "metadata": {},
     "output_type": "execute_result"
    }
   ],
   "source": [
    "import statistics as st\n",
    "median = st.median(data_set)\n",
    "median"
   ]
  },
  {
   "cell_type": "markdown",
   "id": "62273ca7",
   "metadata": {},
   "source": [
    "Median: 50"
   ]
  },
  {
   "cell_type": "markdown",
   "id": "644697ab",
   "metadata": {},
   "source": [
    "#### 4. Mode"
   ]
  },
  {
   "cell_type": "code",
   "execution_count": 10,
   "id": "63ff4240",
   "metadata": {},
   "outputs": [
    {
     "data": {
      "text/plain": [
       "50"
      ]
     },
     "execution_count": 10,
     "metadata": {},
     "output_type": "execute_result"
    }
   ],
   "source": [
    "st.mode(data_set)"
   ]
  },
  {
   "cell_type": "markdown",
   "id": "82fc379d",
   "metadata": {},
   "source": [
    "#### 5. Range"
   ]
  },
  {
   "cell_type": "code",
   "execution_count": 11,
   "id": "3e233e66",
   "metadata": {},
   "outputs": [
    {
     "data": {
      "text/plain": [
       "20"
      ]
     },
     "execution_count": 11,
     "metadata": {},
     "output_type": "execute_result"
    }
   ],
   "source": [
    "range = max(data_set) - min(data_set)\n",
    "range"
   ]
  },
  {
   "cell_type": "markdown",
   "id": "2d339626",
   "metadata": {},
   "source": [
    "#### 6. Quartile"
   ]
  },
  {
   "cell_type": "code",
   "execution_count": 12,
   "id": "73c3db7f",
   "metadata": {
    "scrolled": true
   },
   "outputs": [
    {
     "name": "stdout",
     "output_type": "stream",
     "text": [
      "Quartiles are: [45.0, 50.0, 55.0]\n"
     ]
    }
   ],
   "source": [
    "quartiles = st.quantiles(data_set, n=4)\n",
    "print(\"Quartiles are: \" + str(quartiles))"
   ]
  },
  {
   "cell_type": "markdown",
   "id": "8cc6b622",
   "metadata": {},
   "source": [
    "#### Interquartile range"
   ]
  },
  {
   "cell_type": "code",
   "execution_count": 20,
   "id": "6d95d629",
   "metadata": {},
   "outputs": [
    {
     "data": {
      "text/plain": [
       "10.0"
      ]
     },
     "execution_count": 20,
     "metadata": {},
     "output_type": "execute_result"
    }
   ],
   "source": [
    "import numpy as np\n",
    "data = np.array(data_set)\n",
    "q3, q1 = np.percentile(data, [75 ,25])\n",
    "iqr = q3 - q1\n",
    "iqr"
   ]
  },
  {
   "cell_type": "code",
   "execution_count": 24,
   "id": "7e38659c",
   "metadata": {},
   "outputs": [
    {
     "data": {
      "text/plain": [
       "[30.0, 70.0]"
      ]
     },
     "execution_count": 24,
     "metadata": {},
     "output_type": "execute_result"
    }
   ],
   "source": [
    "inline = [q1 - 1.5*float(iqr), q3+1.5*float(iqr)]\n",
    "inline"
   ]
  },
  {
   "cell_type": "code",
   "execution_count": 15,
   "id": "526e5c29",
   "metadata": {},
   "outputs": [
    {
     "data": {
      "text/plain": [
       "<AxesSubplot:>"
      ]
     },
     "execution_count": 15,
     "metadata": {},
     "output_type": "execute_result"
    },
    {
     "data": {
      "image/png": "[encoded data removed]",
      "text/plain": [
       "<Figure size 360x360 with 1 Axes>"
      ]
     },
     "metadata": {
      "needs_background": "light"
     },
     "output_type": "display_data"
    }
   ],
   "source": [
    "import matplotlib.pyplot as plt\n",
    "import seaborn as sns\n",
    "plt.figure(figsize=(5,5))\n",
    "sns.boxplot(data=data_set)"
   ]
  },
  {
   "cell_type": "code",
   "execution_count": null,
   "id": "c460cb64",
   "metadata": {},
   "outputs": [],
   "source": []
  }
 ],
 "metadata": {
  "kernelspec": {
   "display_name": "Python 3 (ipykernel)",
   "language": "python",
   "name": "python3"
  },
  "language_info": {
   "codemirror_mode": {
    "name": "ipython",
    "version": 3
   },
   "file_extension": ".py",
   "mimetype": "text/x-python",
   "name": "python",
   "nbconvert_exporter": "python",
   "pygments_lexer": "ipython3",
   "version": "3.9.12"
  }
 },
 "nbformat": 4,
 "nbformat_minor": 5
}
